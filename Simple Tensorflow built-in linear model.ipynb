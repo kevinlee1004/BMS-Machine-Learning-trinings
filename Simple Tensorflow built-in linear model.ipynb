{
 "cells": [
  {
   "cell_type": "code",
   "execution_count": 1,
   "metadata": {},
   "outputs": [],
   "source": [
    "## import tensorflow module\n",
    "import tensorflow as tf"
   ]
  },
  {
   "cell_type": "code",
   "execution_count": 2,
   "metadata": {},
   "outputs": [],
   "source": [
    "## Create input variables\n",
    "import numpy as np\n",
    "x_input = np.array([[1,2,3,4,5]])\n",
    "y_input = np.array([[10]])"
   ]
  },
  {
   "cell_type": "code",
   "execution_count": 7,
   "metadata": {},
   "outputs": [
    {
     "name": "stdout",
     "output_type": "stream",
     "text": [
      "(1, 5) <class 'numpy.ndarray'> [[1 2 3 4 5]]\n"
     ]
    }
   ],
   "source": [
    "\n",
    "print(x_input.shape, type(x_input), x_input)"
   ]
  },
  {
   "cell_type": "code",
   "execution_count": 8,
   "metadata": {},
   "outputs": [],
   "source": [
    "## Create Tensorflow placeholder \n",
    "x = tf.placeholder(tf.float32, [None, 5])\n",
    "y = tf.placeholder(tf.float32, [None, 1])"
   ]
  },
  {
   "cell_type": "code",
   "execution_count": 13,
   "metadata": {},
   "outputs": [
    {
     "name": "stdout",
     "output_type": "stream",
     "text": [
      "Tensor(\"Placeholder:0\", shape=(?, 5), dtype=float32)\n",
      "Tensor(\"Placeholder_1:0\", shape=(?, 1), dtype=float32)\n"
     ]
    }
   ],
   "source": [
    "print(x)\n",
    "print(y)"
   ]
  },
  {
   "cell_type": "code",
   "execution_count": 10,
   "metadata": {},
   "outputs": [],
   "source": [
    "## Create tensorflow Variables\n",
    "W = tf.Variable(tf.zeros([5, 1]))\n",
    "b = tf.Variable(tf.zeros([1]))\n",
    "y_pred = tf.matmul(x, W)+b"
   ]
  },
  {
   "cell_type": "code",
   "execution_count": 14,
   "metadata": {},
   "outputs": [
    {
     "name": "stdout",
     "output_type": "stream",
     "text": [
      "<tf.Variable 'Variable:0' shape=(5, 1) dtype=float32_ref>\n",
      "<tf.Variable 'Variable_1:0' shape=(1,) dtype=float32_ref>\n",
      "Tensor(\"add:0\", shape=(?, 1), dtype=float32)\n"
     ]
    }
   ],
   "source": [
    "print(W)\n",
    "print(b)\n",
    "print(y_pred)"
   ]
  },
  {
   "cell_type": "code",
   "execution_count": 15,
   "metadata": {},
   "outputs": [],
   "source": [
    "## Create Loss function Tensor\n",
    "loss = tf.reduce_sum(tf.pow((y-y_pred), 2))"
   ]
  },
  {
   "cell_type": "code",
   "execution_count": 16,
   "metadata": {},
   "outputs": [
    {
     "name": "stdout",
     "output_type": "stream",
     "text": [
      "Tensor(\"Sum:0\", shape=(), dtype=float32)\n"
     ]
    }
   ],
   "source": [
    "print(loss)"
   ]
  },
  {
   "cell_type": "code",
   "execution_count": 38,
   "metadata": {},
   "outputs": [],
   "source": [
    "## Create train model with learning rate of 0.0001\n",
    "train = tf.train.GradientDescentOptimizer(0.0001).minimize(loss)\n",
    "train2 = tf.train.GradientDescentOptimizer(0.001).minimize(loss)"
   ]
  },
  {
   "cell_type": "code",
   "execution_count": 18,
   "metadata": {},
   "outputs": [
    {
     "name": "stdout",
     "output_type": "stream",
     "text": [
      "name: \"GradientDescent\"\n",
      "op: \"NoOp\"\n",
      "input: \"^GradientDescent/update_Variable/ApplyGradientDescent\"\n",
      "input: \"^GradientDescent/update_Variable_1/ApplyGradientDescent\"\n",
      "\n"
     ]
    }
   ],
   "source": [
    "print(train)"
   ]
  },
  {
   "cell_type": "code",
   "execution_count": 21,
   "metadata": {},
   "outputs": [],
   "source": [
    "## initialization tensor Variable\n",
    "init = tf.global_variables_initializer()"
   ]
  },
  {
   "cell_type": "code",
   "execution_count": 36,
   "metadata": {
    "scrolled": false
   },
   "outputs": [
    {
     "name": "stdout",
     "output_type": "stream",
     "text": [
      "loss value:  100.0 \n",
      "Predicted value:  [[0.]] Actual value:  [[10]] \n",
      "Weights:  [[0.002]\n",
      " [0.004]\n",
      " [0.006]\n",
      " [0.008]\n",
      " [0.01 ]] Bias:  [0.002]\n",
      "\n",
      "loss value:  97.77255 \n",
      "Predicted value:  [[0.11199999]] Actual value:  [[10]] \n",
      "Weights:  [[0.0039776]\n",
      " [0.0079552]\n",
      " [0.0119328]\n",
      " [0.0159104]\n",
      " [0.019888 ]] Bias:  [0.0039776]\n",
      "\n",
      "loss value:  95.594696 \n",
      "Predicted value:  [[0.2227456]] Actual value:  [[10]] \n",
      "Weights:  [[0.00593305]\n",
      " [0.0118661 ]\n",
      " [0.01779915]\n",
      " [0.0237322 ]\n",
      " [0.02966525]] Bias:  [0.00593305]\n",
      "\n",
      "loss value:  93.46538 \n",
      "Predicted value:  [[0.33225083]] Actual value:  [[10]] \n",
      "Weights:  [[0.0078666]\n",
      " [0.0157332]\n",
      " [0.0235998]\n",
      " [0.0314664]\n",
      " [0.039333 ]] Bias:  [0.0078666]\n",
      "\n",
      "loss value:  91.38347 \n",
      "Predicted value:  [[0.4405296]] Actual value:  [[10]] \n",
      "Weights:  [[0.00977849]\n",
      " [0.01955699]\n",
      " [0.02933548]\n",
      " [0.03911398]\n",
      " [0.04889247]] Bias:  [0.00977849]\n",
      "\n",
      "loss value:  89.34794 \n",
      "Predicted value:  [[0.5475957]] Actual value:  [[10]] \n",
      "Weights:  [[0.01166897]\n",
      " [0.02333795]\n",
      " [0.03500693]\n",
      " [0.0466759 ]\n",
      " [0.05834487]] Bias:  [0.01166897]\n",
      "\n",
      "loss value:  87.357765 \n",
      "Predicted value:  [[0.6534626]] Actual value:  [[10]] \n",
      "Weights:  [[0.01353828]\n",
      " [0.02707656]\n",
      " [0.04061485]\n",
      " [0.05415313]\n",
      " [0.06769142]] Bias:  [0.01353828]\n",
      "\n",
      "loss value:  85.41191 \n",
      "Predicted value:  [[0.75814384]] Actual value:  [[10]] \n",
      "Weights:  [[0.01538665]\n",
      " [0.03077331]\n",
      " [0.04615996]\n",
      " [0.06154662]\n",
      " [0.07693327]] Bias:  [0.01538665]\n",
      "\n",
      "loss value:  83.5094 \n",
      "Predicted value:  [[0.8616526]] Actual value:  [[10]] \n",
      "Weights:  [[0.01721432]\n",
      " [0.03442865]\n",
      " [0.05164297]\n",
      " [0.0688573 ]\n",
      " [0.08607162]] Bias:  [0.01721432]\n",
      "\n",
      "loss value:  81.64925 \n",
      "Predicted value:  [[0.96400213]] Actual value:  [[10]] \n",
      "Weights:  [[0.01902152]\n",
      " [0.03804305]\n",
      " [0.05706457]\n",
      " [0.0760861 ]\n",
      " [0.09510761]] Bias:  [0.01902152]\n",
      "\n"
     ]
    }
   ],
   "source": [
    "## First Training\n",
    "sess = tf.Session()\n",
    "sess.run(init)\n",
    "for i in range(10): ## iteration\n",
    "    feed_dict = {x: x_input, y: y_input}\n",
    "    _, loss_value, y_pred2, weight, bias = sess.run([train, loss, y_pred, W, b], feed_dict=feed_dict)\n",
    "    print(\"loss value: \", loss_value, \"\\nPredicted value: \", y_pred2,\"Actual value: \",y_input, \"\\nWeights: \", weight, \"Bias: \", bias)\n",
    "    print()"
   ]
  },
  {
   "cell_type": "code",
   "execution_count": 40,
   "metadata": {
    "scrolled": false
   },
   "outputs": [
    {
     "name": "stdout",
     "output_type": "stream",
     "text": [
      "loss value:  100.0 \n",
      "Predicted value:  [[0.]] Actual value:  [[10]] \n",
      "Weights:  [[0.02      ]\n",
      " [0.04      ]\n",
      " [0.06      ]\n",
      " [0.08000001]\n",
      " [0.1       ]] Bias:  [0.02]\n",
      "\n",
      "loss value:  78.8544 \n",
      "Predicted value:  [[1.12]] Actual value:  [[10]] \n",
      "Weights:  [[0.03776   ]\n",
      " [0.07552001]\n",
      " [0.11328   ]\n",
      " [0.15104002]\n",
      " [0.1888    ]] Bias:  [0.03776]\n",
      "\n",
      "loss value:  62.18016 \n",
      "Predicted value:  [[2.1145601]] Actual value:  [[10]] \n",
      "Weights:  [[0.05353089]\n",
      " [0.10706177]\n",
      " [0.16059265]\n",
      " [0.21412355]\n",
      " [0.26765442]] Bias:  [0.05353089]\n",
      "\n",
      "loss value:  49.031796 \n",
      "Predicted value:  [[2.9977295]] Actual value:  [[10]] \n",
      "Weights:  [[0.06753543]\n",
      " [0.13507086]\n",
      " [0.20260628]\n",
      " [0.27014172]\n",
      " [0.33767712]] Bias:  [0.06753543]\n",
      "\n",
      "loss value:  38.663723 \n",
      "Predicted value:  [[3.7819839]] Actual value:  [[10]] \n",
      "Weights:  [[0.07997146]\n",
      " [0.15994292]\n",
      " [0.23991437]\n",
      " [0.31988585]\n",
      " [0.39985728]] Bias:  [0.07997146]\n",
      "\n",
      "loss value:  30.488054 \n",
      "Predicted value:  [[4.478401]] Actual value:  [[10]] \n",
      "Weights:  [[0.09101466]\n",
      " [0.18202932]\n",
      " [0.27304396]\n",
      " [0.36405864]\n",
      " [0.45507327]] Bias:  [0.09101466]\n",
      "\n",
      "loss value:  24.041166 \n",
      "Predicted value:  [[5.096821]] Actual value:  [[10]] \n",
      "Weights:  [[0.10082102]\n",
      " [0.20164204]\n",
      " [0.30246302]\n",
      " [0.40328407]\n",
      " [0.5041051 ]] Bias:  [0.10082102]\n",
      "\n",
      "loss value:  18.957516 \n",
      "Predicted value:  [[5.645977]] Actual value:  [[10]] \n",
      "Weights:  [[0.10952906]\n",
      " [0.21905813]\n",
      " [0.32858717]\n",
      " [0.43811625]\n",
      " [0.54764533]] Bias:  [0.10952906]\n",
      "\n",
      "loss value:  14.948837 \n",
      "Predicted value:  [[6.1336274]] Actual value:  [[10]] \n",
      "Weights:  [[0.11726181]\n",
      " [0.23452362]\n",
      " [0.35178542]\n",
      " [0.46904725]\n",
      " [0.5863091 ]] Bias:  [0.11726181]\n",
      "\n",
      "loss value:  11.787814 \n",
      "Predicted value:  [[6.5666614]] Actual value:  [[10]] \n",
      "Weights:  [[0.12412849]\n",
      " [0.24825698]\n",
      " [0.37238544]\n",
      " [0.49651396]\n",
      " [0.6206425 ]] Bias:  [0.12412849]\n",
      "\n",
      "loss value:  9.295211 \n",
      "Predicted value:  [[6.9511952]] Actual value:  [[10]] \n",
      "Weights:  [[0.1302261 ]\n",
      " [0.2604522 ]\n",
      " [0.3906783 ]\n",
      " [0.5209044 ]\n",
      " [0.65113056]] Bias:  [0.1302261]\n",
      "\n",
      "loss value:  7.329678 \n",
      "Predicted value:  [[7.292662]] Actual value:  [[10]] \n",
      "Weights:  [[0.13564079]\n",
      " [0.27128157]\n",
      " [0.4069223 ]\n",
      " [0.54256314]\n",
      " [0.67820394]] Bias:  [0.13564079]\n",
      "\n",
      "loss value:  5.7797747 \n",
      "Predicted value:  [[7.595884]] Actual value:  [[10]] \n",
      "Weights:  [[0.14044902]\n",
      " [0.28089803]\n",
      " [0.42134702]\n",
      " [0.56179607]\n",
      " [0.7022451 ]] Bias:  [0.14044902]\n",
      "\n",
      "loss value:  4.557605 \n",
      "Predicted value:  [[7.865145]] Actual value:  [[10]] \n",
      "Weights:  [[0.14471872]\n",
      " [0.28943744]\n",
      " [0.43415615]\n",
      " [0.5788749 ]\n",
      " [0.72359365]] Bias:  [0.14471872]\n",
      "\n",
      "loss value:  3.5938718 \n",
      "Predicted value:  [[8.104249]] Actual value:  [[10]] \n",
      "Weights:  [[0.14851022]\n",
      " [0.29702044]\n",
      " [0.44553065]\n",
      " [0.5940409 ]\n",
      " [0.74255115]] Bias:  [0.14851022]\n",
      "\n",
      "loss value:  2.8339293 \n",
      "Predicted value:  [[8.316572]] Actual value:  [[10]] \n",
      "Weights:  [[0.15187708]\n",
      " [0.30375415]\n",
      " [0.45563123]\n",
      " [0.6075083 ]\n",
      " [0.7593854 ]] Bias:  [0.15187708]\n",
      "\n",
      "loss value:  2.2346768 \n",
      "Predicted value:  [[8.505116]] Actual value:  [[10]] \n",
      "Weights:  [[0.15486684]\n",
      " [0.3097337 ]\n",
      " [0.46460053]\n",
      " [0.6194674 ]\n",
      " [0.77433425]] Bias:  [0.15486684]\n",
      "\n",
      "loss value:  1.7621406 \n",
      "Predicted value:  [[8.672544]] Actual value:  [[10]] \n",
      "Weights:  [[0.15752175]\n",
      " [0.3150435 ]\n",
      " [0.47256526]\n",
      " [0.630087  ]\n",
      " [0.7876088 ]] Bias:  [0.15752175]\n",
      "\n",
      "loss value:  1.3895259 \n",
      "Predicted value:  [[8.8212185]] Actual value:  [[10]] \n",
      "Weights:  [[0.15987931]\n",
      " [0.31975862]\n",
      " [0.47963795]\n",
      " [0.63951725]\n",
      " [0.79939663]] Bias:  [0.15987931]\n",
      "\n",
      "loss value:  1.0957037 \n",
      "Predicted value:  [[8.953241]] Actual value:  [[10]] \n",
      "Weights:  [[0.16197284]\n",
      " [0.32394567]\n",
      " [0.4859185 ]\n",
      " [0.64789134]\n",
      " [0.8098642 ]] Bias:  [0.16197284]\n",
      "\n"
     ]
    }
   ],
   "source": [
    "## Second Training with higher learning rate\n",
    "sess = tf.Session()\n",
    "sess.run(init)\n",
    "for i in range(20): ## iteration\n",
    "    feed_dict = {x: x_input, y: y_input}\n",
    "    _, loss_value, y_pred2, weight, bias = sess.run([train2, loss, y_pred, W, b], feed_dict=feed_dict)\n",
    "    print(\"loss value: \", loss_value, \"\\nPredicted value: \", y_pred2,\"Actual value: \",y_input, \"\\nWeights: \", weight, \"Bias: \", bias)\n",
    "    print()"
   ]
  },
  {
   "cell_type": "code",
   "execution_count": null,
   "metadata": {},
   "outputs": [],
   "source": []
  }
 ],
 "metadata": {
  "kernelspec": {
   "display_name": "Python 3",
   "language": "python",
   "name": "python3"
  },
  "language_info": {
   "codemirror_mode": {
    "name": "ipython",
    "version": 3
   },
   "file_extension": ".py",
   "mimetype": "text/x-python",
   "name": "python",
   "nbconvert_exporter": "python",
   "pygments_lexer": "ipython3",
   "version": "3.6.7"
  },
  "widgets": {
   "state": {},
   "version": "1.1.2"
  }
 },
 "nbformat": 4,
 "nbformat_minor": 2
}
